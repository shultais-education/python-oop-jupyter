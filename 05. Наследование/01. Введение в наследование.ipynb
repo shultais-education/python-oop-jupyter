{
 "cells": [
  {
   "cell_type": "markdown",
   "id": "e7247f8b-7e09-4459-aab6-8708d3cc8f4d",
   "metadata": {},
   "source": [
    "# Введение в наследование\n",
    "\n",
    "Класс, от которого происходит наследование называется:\n",
    "- суперкласс\n",
    "- родительский класс\n",
    "- надкласс\n",
    "- базовый класс\n",
    "\n",
    "Класс, который наследует другой класс называется:\n",
    "- подкласс\n",
    "- производный класс\n",
    "- потомок\n",
    "\n",
    "При наследовании класс-потомок получает все атрибуты и методы родительского класса."
   ]
  },
  {
   "cell_type": "code",
   "execution_count": null,
   "id": "c1ba9043-b307-4f58-80c9-0011336d01ad",
   "metadata": {},
   "outputs": [],
   "source": [
    "class Auto:\n",
    "    def __init__(self, brand, model, power):\n",
    "        self.brand = brand\n",
    "        self.model = model\n",
    "        self._power = power\n",
    "\n",
    "    def get_tax(self):\n",
    "        rate = 12\n",
    "        if self._power > 100:\n",
    "            rate = 25\n",
    "        return self._power * rate\n",
    "\n",
    "\n",
    "class Bus(Auto):\n",
    "    \"\"\"\n",
    "    Класс автобуса. Унаследован от Auto.\n",
    "    \"\"\"\n",
    "\n",
    "    def set_places(self, seating, standing=0):\n",
    "        \"\"\"\n",
    "        Метод для установки мест в автобусе:\n",
    "            seating - седячие\n",
    "            standing - стоячие\n",
    "        \"\"\"\n",
    "        self.seating = seating\n",
    "        self.standing = standing\n",
    "\n",
    "    def get_total_places(self):\n",
    "        \"\"\"\n",
    "        Метод для получения общего количества мест в автобусе.\n",
    "        \"\"\"\n",
    "        return self.seating + self.standing\n",
    "\n",
    "\n",
    "# Создаем автомобиль\n",
    "bmw = Auto(\"BMW\", \"X5\", 400)\n",
    "print(bmw.brand, bmw.model, bmw.get_tax())\n",
    "\n",
    "# Создаем автобус\n",
    "pazik = Bus(\"ПАЗ\", \"3204\", 168)\n",
    "\n",
    "# Выводим базовую информацию\n",
    "print(pazik.brand, pazik.model, pazik.get_tax())\n",
    "\n",
    "# Устанавливаем места\n",
    "pazik.set_places(30, 20)\n",
    "\n",
    "# Выводим общее количество мест\n",
    "print(pazik.get_total_places())"
   ]
  },
  {
   "cell_type": "code",
   "execution_count": null,
   "id": "cef74ed7-2f69-4043-a89c-07eabbfdc01e",
   "metadata": {},
   "outputs": [],
   "source": []
  }
 ],
 "metadata": {
  "kernelspec": {
   "display_name": "Python 3 (ipykernel)",
   "language": "python",
   "name": "python3"
  },
  "language_info": {
   "codemirror_mode": {
    "name": "ipython",
    "version": 3
   },
   "file_extension": ".py",
   "mimetype": "text/x-python",
   "name": "python",
   "nbconvert_exporter": "python",
   "pygments_lexer": "ipython3",
   "version": "3.11.7"
  }
 },
 "nbformat": 4,
 "nbformat_minor": 5
}
