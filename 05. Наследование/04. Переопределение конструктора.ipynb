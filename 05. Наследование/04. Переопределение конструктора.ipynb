{
 "cells": [
  {
   "cell_type": "markdown",
   "id": "1fa1326f-b654-4ccd-a24a-e3a969842b5a",
   "metadata": {},
   "source": [
    "# Переопределение конструктора"
   ]
  },
  {
   "cell_type": "code",
   "execution_count": null,
   "id": "5700655a-204b-4009-88ee-b680f6e852f0",
   "metadata": {},
   "outputs": [],
   "source": [
    "class Auto:\n",
    "    def __init__(self, brand, model, power):\n",
    "        self.brand = brand.lower()\n",
    "        self.model = model\n",
    "        self._power = power\n",
    "\n",
    "    def get_tax(self):\n",
    "        rate = 12\n",
    "        if self._power > 100:\n",
    "            rate = 25\n",
    "        return self._power * rate\n",
    "\n",
    "    def __str__(self):\n",
    "        return f\"{self.brand} {self.model}\"\n",
    "\n",
    "    def __repr__(self):\n",
    "        return f\"{self.brand} {self.model}\"\n",
    "\n",
    "\n",
    "class Bus(Auto):\n",
    "    \"\"\"\n",
    "    Класс автобуса. Унаследован от Auto.\n",
    "    \"\"\"\n",
    "\n",
    "    def __init__(self, brand, model, power):\n",
    "        # Вызываем конструктор родительского класса\n",
    "        super().__init__(brand, model, power)\n",
    "\n",
    "        # Атрибуты, специфичные для автобуса.\n",
    "        self.seating = 0\n",
    "        self.standing = 0\n",
    "\n",
    "    def set_places(self, seating, standing=0):\n",
    "        \"\"\"\n",
    "        Метод для установки мест в автобусе:\n",
    "            seating - седячие\n",
    "            standing - стоячие\n",
    "        \"\"\"\n",
    "        self.seating = seating\n",
    "        self.standing = standing\n",
    "\n",
    "    def get_total_places(self):\n",
    "        \"\"\"\n",
    "        Метод для получения общего количества мест в автобусе.\n",
    "        \"\"\"\n",
    "        return self.seating + self.standing\n",
    "\n",
    "    def get_tax(self):\n",
    "        \"\"\"\n",
    "        Переопределеяем метод get_tax()\n",
    "        \"\"\"\n",
    "        rate = 15\n",
    "        return rate * self._power\n",
    "\n",
    "\n",
    "# Создаем автомобиль\n",
    "bmw = Auto(\"BMW\", \"X5\", 400)\n",
    "print(bmw.brand, bmw.model, bmw.get_tax())\n",
    "\n",
    "# Создаем автобус\n",
    "pazik = Bus(\"ПАЗ\", \"3204\", 165)\n",
    "print(pazik.brand, pazik.model, pazik.get_tax())\n"
   ]
  },
  {
   "cell_type": "code",
   "execution_count": null,
   "id": "bc2944f4-0b18-40ea-a881-d81164db58dd",
   "metadata": {},
   "outputs": [],
   "source": []
  },
  {
   "cell_type": "code",
   "execution_count": null,
   "id": "c22ad2d7-8465-4beb-84a6-c478e08d2794",
   "metadata": {},
   "outputs": [],
   "source": []
  }
 ],
 "metadata": {
  "kernelspec": {
   "display_name": "Python 3 (ipykernel)",
   "language": "python",
   "name": "python3"
  },
  "language_info": {
   "codemirror_mode": {
    "name": "ipython",
    "version": 3
   },
   "file_extension": ".py",
   "mimetype": "text/x-python",
   "name": "python",
   "nbconvert_exporter": "python",
   "pygments_lexer": "ipython3",
   "version": "3.11.7"
  }
 },
 "nbformat": 4,
 "nbformat_minor": 5
}
