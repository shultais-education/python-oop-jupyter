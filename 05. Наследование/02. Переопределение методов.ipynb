{
 "cells": [
  {
   "cell_type": "markdown",
   "id": "f6186eb3-24a5-475a-a7bd-6e27cf3d0446",
   "metadata": {},
   "source": [
    "# Переопределение методов\n",
    "\n",
    "Переопредление методов позволяет в классе-потомке использовать метод с тем же названием, что и у родителя, но при этом логика работы метода будет другой."
   ]
  },
  {
   "cell_type": "code",
   "execution_count": null,
   "id": "7aa55fc2-4b6f-4ac5-833f-a4f6159bf1bf",
   "metadata": {},
   "outputs": [],
   "source": [
    "class Auto:\n",
    "    def __init__(self, brand, model, power):\n",
    "        self.brand = brand\n",
    "        self.model = model\n",
    "        self._power = power\n",
    "\n",
    "    def get_tax(self):\n",
    "        rate = 12\n",
    "        if self._power > 100:\n",
    "            rate = 25\n",
    "        return self._power * rate\n",
    "\n",
    "\n",
    "class Bus(Auto):\n",
    "    \"\"\"\n",
    "    Класс автобуса. Унаследован от Auto.\n",
    "    \"\"\"\n",
    "\n",
    "    def set_places(self, seating, standing=0):\n",
    "        \"\"\"\n",
    "        Метод для установки мест в автобусе:\n",
    "            seating - седячие\n",
    "            standing - стоячие\n",
    "        \"\"\"\n",
    "        self.seating = seating\n",
    "        self.standing = standing\n",
    "\n",
    "    def get_total_places(self):\n",
    "        \"\"\"\n",
    "        Метод для получения общего количества мест в автобусе.\n",
    "        \"\"\"\n",
    "        return self.seating + self.standing\n",
    "\n",
    "    def get_tax(self):\n",
    "        \"\"\"\n",
    "        Переопределеяем метод get_tax()\n",
    "        \"\"\"\n",
    "        rate = 15\n",
    "        return rate * self._power\n",
    "\n",
    "\n",
    "# Создаем автомобиль\n",
    "bmw = Auto(\"BMW\", \"X5\", 400)\n",
    "# Будет использован get_tax() из класса Auto\n",
    "print(bmw.brand, bmw.model, bmw.get_tax())\n",
    "\n",
    "# Создаем автобус\n",
    "pazik = Bus(\"ПАЗ\", \"3204\", 400)\n",
    "\n",
    "# Выводим базовую информацию\n",
    "# Будет использован get_tax() из класса Bus\n",
    "print(pazik.brand, pazik.model, pazik.get_tax())\n",
    "\n",
    "# Устанавливаем места\n",
    "pazik.set_places(30, 20)\n",
    "\n",
    "# Выводим общее количество мест\n",
    "print(pazik.get_total_places())"
   ]
  },
  {
   "cell_type": "code",
   "execution_count": null,
   "id": "8feea736-b0d3-4b47-a154-8e9f23425c12",
   "metadata": {},
   "outputs": [],
   "source": []
  }
 ],
 "metadata": {
  "kernelspec": {
   "display_name": "Python 3 (ipykernel)",
   "language": "python",
   "name": "python3"
  },
  "language_info": {
   "codemirror_mode": {
    "name": "ipython",
    "version": 3
   },
   "file_extension": ".py",
   "mimetype": "text/x-python",
   "name": "python",
   "nbconvert_exporter": "python",
   "pygments_lexer": "ipython3",
   "version": "3.11.7"
  }
 },
 "nbformat": 4,
 "nbformat_minor": 5
}
