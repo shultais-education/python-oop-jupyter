{
 "cells": [
  {
   "cell_type": "markdown",
   "id": "7c79f0de-0667-49cb-8902-12f76c5c61c9",
   "metadata": {},
   "source": [
    "# Первый класс"
   ]
  },
  {
   "cell_type": "markdown",
   "id": "b4245ba4-2535-4670-862f-8bfa185de566",
   "metadata": {},
   "source": [
    "Классы - это **шаблоны**, по которым создаются объекты.<br>\n",
    "Создаваемые объекты имеют одинаковые атрибуты (которые описывет класс), но эти атрибуты содержат разные данные.<br>\n",
    "\n",
    "В Python **имена классов** принято записывать с заглавной буквы. Если быть точнее используется нотация **CamelCase**.<br>\n",
    "Если имя состоит из нескольких слов, то каждое из них должно быть с заглавной буквы без каких-либо разделителей между, например:\n",
    "MyProduct, FootballTeam, BaseLinuxPath и тд."
   ]
  },
  {
   "cell_type": "markdown",
   "id": "418de041-f2ff-43eb-8881-e988258a9d71",
   "metadata": {},
   "source": [
    "**Атрибуты объекта** - это некие ячейки (переменные) для хранения данных внутри конкретного объекта.<br>\n",
    "Атрибуты записываются через `self.` и их имена должны соответствовать правилам записи имён переменных."
   ]
  },
  {
   "cell_type": "markdown",
   "id": "37753af3-2bdc-4165-baa0-901f4d946108",
   "metadata": {},
   "source": [
    "## Конструктор\n",
    "\n",
    "**Констуктор** - это функция внутри класса, которая отвечает за создание объекта и наполнение его данными.<br>\n",
    "Конструктор имеет имя `__init__` и первым аргументом должен принимать **self**:\n",
    "\n",
    "```python\n",
    "def __init__(self, другие_аругменты):\n",
    "       ...\n",
    "```"
   ]
  },
  {
   "cell_type": "code",
   "execution_count": 1,
   "id": "f2f6f666-d72a-4196-ae2e-56a04b3feb60",
   "metadata": {},
   "outputs": [
    {
     "name": "stdout",
     "output_type": "stream",
     "text": [
      "Рис\n",
      "1300\n",
      "Молоко\n",
      "450\n"
     ]
    }
   ],
   "source": [
    "class Product:\n",
    "\n",
    "    def __init__(self, name, price, quantity):\n",
    "        \"\"\"\n",
    "        Конструктор класса Product.\n",
    "        Создаём три атрибута и наполняем их данными.\n",
    "        \"\"\"\n",
    "        self.name = name\n",
    "        self.price = price\n",
    "        self.quantity = quantity\n",
    "\n",
    "# Создание объектов через вызов Классов.\n",
    "rice = Product(\"Рис\", 130, 10)\n",
    "milk = Product(\"Молоко\", 90, 5)\n",
    "\n",
    "# Доступ к атрибутам объектов с помоощью точечной нотации.\n",
    "print(rice.name)\n",
    "print(rice.price * rice.quantity)\n",
    "\n",
    "print(milk.name)\n",
    "print(milk.price * milk.quantity)\n"
   ]
  },
  {
   "cell_type": "code",
   "execution_count": null,
   "id": "fed0ba59-481c-434a-bd0c-d57c13005850",
   "metadata": {},
   "outputs": [],
   "source": []
  }
 ],
 "metadata": {
  "kernelspec": {
   "display_name": "Python 3 (ipykernel)",
   "language": "python",
   "name": "python3"
  },
  "language_info": {
   "codemirror_mode": {
    "name": "ipython",
    "version": 3
   },
   "file_extension": ".py",
   "mimetype": "text/x-python",
   "name": "python",
   "nbconvert_exporter": "python",
   "pygments_lexer": "ipython3",
   "version": "3.11.7"
  }
 },
 "nbformat": 4,
 "nbformat_minor": 5
}
