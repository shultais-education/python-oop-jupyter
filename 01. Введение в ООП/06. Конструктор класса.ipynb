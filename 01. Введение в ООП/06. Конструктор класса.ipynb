{
 "cells": [
  {
   "cell_type": "markdown",
   "id": "99c31ba8-e671-4ae7-8056-3358e65be618",
   "metadata": {},
   "source": [
    "#  Конструктор класса"
   ]
  },
  {
   "cell_type": "markdown",
   "id": "6a4ab6dd-ceb3-45e5-a2ef-430cb1855d4f",
   "metadata": {},
   "source": [
    "Конструктор класса - это метод, который выполняется автоматически при создании объекта.<br>\n",
    "Конструктор класса неявно возвращает ссылку на обеъкт обратно в программу.<br>\n",
    "Явный возврат **self** (`return self`) считается ошибкой."
   ]
  },
  {
   "cell_type": "code",
   "execution_count": 1,
   "id": "1c816540-1325-4f19-a4da-77f5b1862aa9",
   "metadata": {},
   "outputs": [
    {
     "ename": "TypeError",
     "evalue": "__init__() should return None, not 'Product'",
     "output_type": "error",
     "traceback": [
      "\u001b[0;31m---------------------------------------------------------------------------\u001b[0m",
      "\u001b[0;31mTypeError\u001b[0m                                 Traceback (most recent call last)",
      "Cell \u001b[0;32mIn[1], line 17\u001b[0m\n\u001b[1;32m     14\u001b[0m     \u001b[38;5;28;01mdef\u001b[39;00m \u001b[38;5;21mupdate_price\u001b[39m(\u001b[38;5;28mself\u001b[39m, new_price):\n\u001b[1;32m     15\u001b[0m         \u001b[38;5;28mself\u001b[39m\u001b[38;5;241m.\u001b[39mprice \u001b[38;5;241m=\u001b[39m \u001b[38;5;28mint\u001b[39m(new_price)\n\u001b[0;32m---> 17\u001b[0m milk \u001b[38;5;241m=\u001b[39m Product(\u001b[38;5;124m\"\u001b[39m\u001b[38;5;124mМолоко\u001b[39m\u001b[38;5;124m\"\u001b[39m, \u001b[38;5;241m90\u001b[39m, \u001b[38;5;241m5\u001b[39m)\n\u001b[1;32m     19\u001b[0m \u001b[38;5;28mprint\u001b[39m(milk\u001b[38;5;241m.\u001b[39mupdate_price(\u001b[38;5;241m100\u001b[39m))\n\u001b[1;32m     20\u001b[0m \u001b[38;5;28mprint\u001b[39m(milk\u001b[38;5;241m.\u001b[39mget_full_price())\n",
      "\u001b[0;31mTypeError\u001b[0m: __init__() should return None, not 'Product'"
     ]
    }
   ],
   "source": [
    "class Product:\n",
    "\n",
    "    def __init__(self, name, price, quantity):\n",
    "        self.name = name\n",
    "        self.price = price\n",
    "        self.quantity = quantity\n",
    "        \n",
    "        # Ошбика, конструктор ничего не должен возвращать\n",
    "        return self\n",
    "\n",
    "    def get_full_price(self):\n",
    "        return self.price * self.quantity\n",
    "\n",
    "    def update_price(self, new_price):\n",
    "        self.price = int(new_price)\n",
    "\n",
    "milk = Product(\"Молоко\", 90, 5)\n",
    "\n",
    "print(milk.update_price(100))\n",
    "print(milk.get_full_price())\n"
   ]
  },
  {
   "cell_type": "code",
   "execution_count": null,
   "id": "964a0329-fd53-483b-9841-5ff123ac020f",
   "metadata": {},
   "outputs": [],
   "source": []
  }
 ],
 "metadata": {
  "kernelspec": {
   "display_name": "Python 3 (ipykernel)",
   "language": "python",
   "name": "python3"
  },
  "language_info": {
   "codemirror_mode": {
    "name": "ipython",
    "version": 3
   },
   "file_extension": ".py",
   "mimetype": "text/x-python",
   "name": "python",
   "nbconvert_exporter": "python",
   "pygments_lexer": "ipython3",
   "version": "3.11.7"
  }
 },
 "nbformat": 4,
 "nbformat_minor": 5
}
