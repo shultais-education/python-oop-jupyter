{
 "cells": [
  {
   "cell_type": "markdown",
   "id": "00de7f9b-db89-4e85-bcfe-0ecef3e166e6",
   "metadata": {},
   "source": [
    "# Переменные в методах"
   ]
  },
  {
   "cell_type": "markdown",
   "id": "06df7c87-927c-4c3a-af3a-97efd78e9a38",
   "metadata": {},
   "source": [
    "В методах вы можете использовать обычные переменные (без слова `self`), которые живут пока метод выполняется и удаляются после завершения его работы. Такие переменные часто используются для промежуточных рассчетов.\n",
    "\n",
    "Также методы в качестве аргументов могут принимать данные, которые не нужно сохранять в атрибуты объекта. Это распространенная практика."
   ]
  },
  {
   "cell_type": "code",
   "execution_count": null,
   "id": "bec03c68-76f5-4f7f-a697-580444ab41a2",
   "metadata": {},
   "outputs": [],
   "source": [
    "class Product:\n",
    "\n",
    "    def __init__(self, name, price, quantity=10):\n",
    "        self.name = name\n",
    "        self.price = price\n",
    "        self.quantity = quantity\n",
    "\n",
    "    def get_full_price(self, currency=\"руб.\"):\n",
    "        # Вычисляем полную цену\n",
    "        full_price = self.price * self.quantity\n",
    "\n",
    "        # Формируем итоговую строку\n",
    "        result = f\"{full_price} {currency}\"\n",
    "\n",
    "        # Возвращаем результат\n",
    "        return result\n",
    "\n",
    "    def update_price(self, new_price):\n",
    "        self.price = int(new_price)\n",
    "\n",
    "# Создаём объект\n",
    "milk = Product(\"Молоко\", 90)\n",
    "\n",
    "# Выводим данные со значением по умолчанию\n",
    "print(milk.name, milk.get_full_price())\n",
    "\n",
    "# Выводим данные с альтернативной валютой\n",
    "print(milk.name, milk.get_full_price(currency=\"USD\"))"
   ]
  },
  {
   "cell_type": "markdown",
   "id": "7ace33ea-55a7-45e1-be07-cc0b6e8ead3b",
   "metadata": {},
   "source": [
    "## Валюта, как часть объекта"
   ]
  },
  {
   "cell_type": "code",
   "execution_count": null,
   "id": "cfd0a9fb-02cf-485f-a64d-723613b2298a",
   "metadata": {},
   "outputs": [],
   "source": [
    "class Product:\n",
    "\n",
    "    def __init__(self, name, price, quantity=10):\n",
    "        self.name = name\n",
    "        self.price = price\n",
    "        self.quantity = quantity\n",
    "\n",
    "        # Создаём атрибут со значением по-умолчанию.\n",
    "        self.currency = \"руб.\"\n",
    "\n",
    "    def get_full_price(self):\n",
    "        # Вычисляем полную цену\n",
    "        full_price = self.price * self.quantity\n",
    "\n",
    "        # Формируем итоговую строку\n",
    "        result = f\"{full_price} {self.currency}\"\n",
    "\n",
    "        # Возвращаем результат\n",
    "        return result\n",
    "\n",
    "    def update_price(self, new_price):\n",
    "        self.price = int(new_price)\n",
    "\n",
    "    def set_currency(self, currency):\n",
    "        \"\"\"\n",
    "        Метод для установки валюты.\n",
    "        \"\"\"\n",
    "        self.currency = currency.lower()\n",
    "\n",
    "# Создаём объект\n",
    "milk = Product(\"Молоко\", 90)\n",
    "\n",
    "# Устанавливаем валюту\n",
    "milk.set_currency(\"Р.\")\n",
    "\n",
    "# Выводим данные\n",
    "print(milk.name, milk.get_full_price())"
   ]
  },
  {
   "cell_type": "code",
   "execution_count": null,
   "id": "35a27ea7-4b62-4d8d-a4bc-4ab7667a98ff",
   "metadata": {},
   "outputs": [],
   "source": []
  }
 ],
 "metadata": {
  "kernelspec": {
   "display_name": "Python 3 (ipykernel)",
   "language": "python",
   "name": "python3"
  },
  "language_info": {
   "codemirror_mode": {
    "name": "ipython",
    "version": 3
   },
   "file_extension": ".py",
   "mimetype": "text/x-python",
   "name": "python",
   "nbconvert_exporter": "python",
   "pygments_lexer": "ipython3",
   "version": "3.11.7"
  }
 },
 "nbformat": 4,
 "nbformat_minor": 5
}
