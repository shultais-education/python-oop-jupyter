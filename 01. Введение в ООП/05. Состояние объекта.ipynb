{
 "cells": [
  {
   "cell_type": "markdown",
   "id": "2fb2b797-59a1-4e14-86a5-4b83f38c0b31",
   "metadata": {},
   "source": [
    "# Состояние объекта"
   ]
  },
  {
   "cell_type": "markdown",
   "id": "3fb9a6d5-b952-44ff-863d-a2d9bcd88d5d",
   "metadata": {},
   "source": [
    "Данные в атрибутах объекта определяют его **состояние**. Один и тот же объект с разными данными находится в разных состояниях."
   ]
  },
  {
   "cell_type": "markdown",
   "id": "3a2ce4d2-76fa-4eaa-91b0-229f54136719",
   "metadata": {},
   "source": [
    "Изменять атрибуты (и следовательно состояния) мы можем как напрямую, так и через методы."
   ]
  },
  {
   "cell_type": "code",
   "execution_count": 4,
   "id": "3b36693f-bd31-4818-b2de-2afbdc555c93",
   "metadata": {},
   "outputs": [
    {
     "name": "stdout",
     "output_type": "stream",
     "text": [
      "Молоко\n",
      "450\n",
      "5000\n",
      "500500500500500\n"
     ]
    }
   ],
   "source": [
    "class Product:\n",
    "\n",
    "    def __init__(self, name, price, quantity):\n",
    "        self.name = name\n",
    "        self.price = price\n",
    "        self.quantity = quantity\n",
    "\n",
    "    def get_full_price(self):\n",
    "        return self.price * self.quantity\n",
    "\n",
    "    def update_price(self, new_price):\n",
    "        \"\"\"\n",
    "        Метод для изменения цены товара.\n",
    "        Цена предварительно преобразуется к целому числу.\n",
    "        Метод меняет цену, но не возвращает данные. \n",
    "        Использовать его совместно с print() некорректно.\n",
    "        \"\"\"\n",
    "        self.price = int(new_price)\n",
    "\n",
    "\n",
    "# Создаём объект - Состояние 1\n",
    "milk = Product(\"Молоко\", 90, 5)\n",
    "\n",
    "# Выводим данные\n",
    "print(milk.name)\n",
    "print(milk.get_full_price())\n",
    "\n",
    "# Меняем цену товара (меняем состояние объекта) - Состояние 2\n",
    "milk.update_price(1000)\n",
    "print(milk.get_full_price())\n",
    "\n",
    "# Меняем цену товара напряму - Состояние 3\n",
    "# Обратите внимание, что цену я установил как строку.\n",
    "# Из-за этого .get_full_price() верент неверные данные.\n",
    "milk.price = \"500\"\n",
    "print(milk.get_full_price())\n",
    "\n"
   ]
  },
  {
   "cell_type": "code",
   "execution_count": null,
   "id": "f0239cea-06a0-4857-ad05-c57317f99ad1",
   "metadata": {},
   "outputs": [],
   "source": []
  }
 ],
 "metadata": {
  "kernelspec": {
   "display_name": "Python 3 (ipykernel)",
   "language": "python",
   "name": "python3"
  },
  "language_info": {
   "codemirror_mode": {
    "name": "ipython",
    "version": 3
   },
   "file_extension": ".py",
   "mimetype": "text/x-python",
   "name": "python",
   "nbconvert_exporter": "python",
   "pygments_lexer": "ipython3",
   "version": "3.11.7"
  }
 },
 "nbformat": 4,
 "nbformat_minor": 5
}
