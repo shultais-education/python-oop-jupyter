{
 "cells": [
  {
   "cell_type": "markdown",
   "id": "a7bbf343-f6d9-4860-95d4-cd9981cb2063",
   "metadata": {},
   "source": [
    "# Методы классов"
   ]
  },
  {
   "cell_type": "markdown",
   "id": "cf220a49-8749-4efb-a310-b176dd8659b5",
   "metadata": {},
   "source": [
    "Методы - это функции внутри классов, которые имеют доступ к данным обекта и могут совершать над ним какие-либо действия.<br>\n",
    "Методы в обязательном порядке первым аргументом принимают `self`.<br>\n",
    "`self` - это **ссылка на объект**, который вызвал метод."
   ]
  },
  {
   "cell_type": "code",
   "execution_count": 2,
   "id": "8b181449-71d4-41ab-bd87-51180a5cd370",
   "metadata": {},
   "outputs": [
    {
     "name": "stdout",
     "output_type": "stream",
     "text": [
      "Молоко\n",
      "450\n",
      "450\n",
      "450\n"
     ]
    }
   ],
   "source": [
    "class Product:\n",
    "\n",
    "    def __init__(self, name, price, quantity):\n",
    "        self.name = name\n",
    "        self.price = price\n",
    "        self.quantity = quantity\n",
    "\n",
    "    def get_full_price(self):\n",
    "        \"\"\"\n",
    "        Метод, который возвращает полную стоимость товара self.\n",
    "        \"\"\"\n",
    "        return self.price * self.quantity\n",
    "\n",
    "\n",
    "# Создаём объект\n",
    "milk = Product(\"Молоко\", 90, 5)\n",
    "\n",
    "# Обращаемся к атрибутам объекта.\n",
    "print(milk.name)\n",
    "print(milk.price * milk.quantity)\n",
    "\n",
    "# Вызываем метод объекта.\n",
    "print(milk.get_full_price())\n",
    "\n",
    "# Вызов метода выше равносилен вот такому вызову.\n",
    "# Так тоже будет работать, но так никто не пишет.\n",
    "print(Product.get_full_price(milk))\n"
   ]
  },
  {
   "cell_type": "code",
   "execution_count": null,
   "id": "aed85649-ff2f-4589-96c6-1cac3b51204b",
   "metadata": {},
   "outputs": [],
   "source": []
  }
 ],
 "metadata": {
  "kernelspec": {
   "display_name": "Python 3 (ipykernel)",
   "language": "python",
   "name": "python3"
  },
  "language_info": {
   "codemirror_mode": {
    "name": "ipython",
    "version": 3
   },
   "file_extension": ".py",
   "mimetype": "text/x-python",
   "name": "python",
   "nbconvert_exporter": "python",
   "pygments_lexer": "ipython3",
   "version": "3.11.7"
  }
 },
 "nbformat": 4,
 "nbformat_minor": 5
}
