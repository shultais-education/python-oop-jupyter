{
 "cells": [
  {
   "cell_type": "markdown",
   "id": "bca2a8fc-2723-4789-b3e3-ba45eb96a277",
   "metadata": {},
   "source": [
    "# Словари и функции"
   ]
  },
  {
   "cell_type": "markdown",
   "id": "659ccd14-01a5-4054-9c4b-f10de9796156",
   "metadata": {},
   "source": [
    "Словари отлично подходят для хранения структурированных данных."
   ]
  },
  {
   "cell_type": "code",
   "execution_count": 1,
   "id": "06b83ff9-1569-4e55-bbbf-2f80ada73b65",
   "metadata": {},
   "outputs": [
    {
     "name": "stdout",
     "output_type": "stream",
     "text": [
      "1500\n"
     ]
    }
   ],
   "source": [
    "# Словарь для хранения данных о Рисе.\n",
    "product = {\n",
    "    \"name\": \"Рис\",\n",
    "    \"price\": 130,\n",
    "    \"quantity\": 10\n",
    "}\n",
    "\n",
    "def get_full_price(p):\n",
    "    \"\"\"\n",
    "    Получаем полную стоимость всех товаров.\n",
    "    \"\"\"\n",
    "    return p[\"price\"] * p[\"quantity\"]\n",
    "    \n",
    "def update_price(p, new_price):\n",
    "    \"\"\"\n",
    "    Обновляем цену товара, предварительно преобразовав к целому числу.\n",
    "    \"\"\"\n",
    "    new_price = int(new_price)\n",
    "    p[\"price\"] = new_price\n",
    "\n",
    "\n",
    "# Обновляем цену и выводим полную стоимость\n",
    "update_price(product, \"150\")\n",
    "print(get_full_price(product))\n"
   ]
  },
  {
   "cell_type": "code",
   "execution_count": 2,
   "id": "ff06081b-ff5b-45ba-801a-922779426204",
   "metadata": {},
   "outputs": [
    {
     "name": "stdout",
     "output_type": "stream",
     "text": [
      "1500\n",
      "0\n",
      "{'name': 'Молоко', 'price': 100, 'quantity': 0}\n"
     ]
    }
   ],
   "source": [
    "def init_product(name, price, quantity=0):\n",
    "    \"\"\"\n",
    "    Функция для формирования словаря в нужном формате.\n",
    "    \"\"\"\n",
    "    return {\"name\": name, \"price\": price, \"quantity\": quantity}\n",
    "\n",
    "# Формируем словари\n",
    "product = init_product(\"Рис\", 130, 10)\n",
    "milk = init_product(\"Молоко\", 90)\n",
    "\n",
    "\n",
    "def get_full_price(p):\n",
    "    \"\"\"\n",
    "    Получаем полную стоимость всех товаров.\n",
    "    \"\"\"\n",
    "    return p[\"price\"] * p[\"quantity\"]\n",
    "    \n",
    "def update_price(p, new_price):\n",
    "    \"\"\"\n",
    "    Обновляем цену товара, предварительно преобразовав к целому числу.\n",
    "    \"\"\"\n",
    "    new_price = int(new_price)\n",
    "    p[\"price\"] = new_price\n",
    "\n",
    "\n",
    "# Рис: обновляем цену и выводим полную стоимость\n",
    "update_price(product, \"150\")\n",
    "print(get_full_price(product))\n",
    "\n",
    "# Молоко: обновляем цену и выводим полную стоимость\n",
    "update_price(milk, 100)\n",
    "print(get_full_price(milk))\n",
    "\n",
    "# Выводим молоко\n",
    "print(milk)"
   ]
  },
  {
   "cell_type": "markdown",
   "id": "c080a69f-7676-47c9-b067-d69c79b903c5",
   "metadata": {},
   "source": [
    "## Постановка проблемы\n",
    "\n",
    "Проблема текущего кода в том, что данные не связаны с функциями, которые их обрабатывают.<br>\n",
    "Функции без данных не имеют смысла, а данные без функций бесполезны.\n",
    "\n",
    "Решение - это воспользоваться ООП: создать классы и объекты.\n",
    "\n"
   ]
  },
  {
   "cell_type": "code",
   "execution_count": null,
   "id": "f9988af7-6076-4b5b-bfd9-fad0038662cf",
   "metadata": {},
   "outputs": [],
   "source": []
  }
 ],
 "metadata": {
  "kernelspec": {
   "display_name": "Python 3 (ipykernel)",
   "language": "python",
   "name": "python3"
  },
  "language_info": {
   "codemirror_mode": {
    "name": "ipython",
    "version": 3
   },
   "file_extension": ".py",
   "mimetype": "text/x-python",
   "name": "python",
   "nbconvert_exporter": "python",
   "pygments_lexer": "ipython3",
   "version": "3.9.13"
  }
 },
 "nbformat": 4,
 "nbformat_minor": 5
}
