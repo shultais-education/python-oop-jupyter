{
 "cells": [
  {
   "cell_type": "markdown",
   "id": "b01c0ae7-85e4-4640-aa4f-1e26b78f3952",
   "metadata": {},
   "source": [
    "# Значения по-умолчанию"
   ]
  },
  {
   "cell_type": "markdown",
   "id": "2d7947f0-74e3-4c5b-8298-af2348bad48f",
   "metadata": {},
   "source": [
    "Значения по-умолчанию в конструкторе класса можно задать двумя основными способами:\n",
    "\n",
    "1. Классическим способом в определении функции.\n",
    "2. В теле метода."
   ]
  },
  {
   "cell_type": "code",
   "execution_count": 7,
   "id": "dc0ecae1-c6b6-4c75-9baf-e454de5aa7d2",
   "metadata": {},
   "outputs": [
    {
     "name": "stdout",
     "output_type": "stream",
     "text": [
      "Молоко 900 руб.\n",
      "Рис 650 руб.\n"
     ]
    }
   ],
   "source": [
    "class Product:\n",
    "\n",
    "    def __init__(self, name, price=0):\n",
    "        \"\"\"\n",
    "        Название передавать обязательно.\n",
    "        Цену можно как передавать, так и не передавать (опцинально).\n",
    "        Количество нужно заполнять уже в процессе работы программы.\n",
    "        \"\"\"\n",
    "        self.name = name\n",
    "        self.price = price\n",
    "        self.quantity = 0  \n",
    "\n",
    "    def get_full_price(self):\n",
    "        return self.price * self.quantity\n",
    "\n",
    "    def update_price(self, new_price):\n",
    "        self.price = int(new_price)\n",
    "\n",
    "# Создаём объекты\n",
    "milk = Product(\"Молоко\", 90)\n",
    "rice = Product(\"Рис\")\n",
    "\n",
    "# Наполняем атрибутами\n",
    "milk.quantity = 10\n",
    "rice.quantity = 5\n",
    "rice.price = 130\n",
    "\n",
    "# Выводим данные\n",
    "print(milk.name, milk.get_full_price(), \"руб.\")\n",
    "print(rice.name, rice.get_full_price(), \"руб.\")\n"
   ]
  },
  {
   "cell_type": "markdown",
   "id": "ae5abf38-2fb0-4d90-9639-d0262df3aabd",
   "metadata": {},
   "source": [
    "## Создание атрибутов объекта \"на лету\"\n",
    "\n",
    "Если уже создан и мы в программе справа от точки указываем несуществующий атрибут с приваением значения, то этот атрибут будет создан.<br>\n",
    "Это не лучшая практика работы с объектами."
   ]
  },
  {
   "cell_type": "code",
   "execution_count": 8,
   "id": "3addbeeb-77cc-4af5-aff1-7b85d2cc13bc",
   "metadata": {},
   "outputs": [
    {
     "name": "stdout",
     "output_type": "stream",
     "text": [
      "Молоко 900 руб.\n",
      "Рис 650 руб.\n"
     ]
    }
   ],
   "source": [
    "class Product:\n",
    "\n",
    "    def __init__(self, name, price=0):\n",
    "        \"\"\"\n",
    "        Название передавать обязательно.\n",
    "        Цену можно как передавать, так и не передавать (опцинально).\n",
    "        Количество нужно заполнять уже в процессе работы программы.\n",
    "        \"\"\"\n",
    "        self.name = name\n",
    "        self.price = price\n",
    "\n",
    "    def get_full_price(self):\n",
    "        return self.price * self.quantity\n",
    "\n",
    "    def update_price(self, new_price):\n",
    "        self.price = int(new_price)\n",
    "\n",
    "# Создаём объекты\n",
    "milk = Product(\"Молоко\", 90)\n",
    "rice = Product(\"Рис\")\n",
    "\n",
    "# Заполняем цену\n",
    "rice.price = 130\n",
    "\n",
    "# Создаём атрибуты quantity\n",
    "milk.quantity = 10\n",
    "rice.quantity = 5\n",
    "\n",
    "# Выводим данные\n",
    "print(milk.name, milk.get_full_price(), \"руб.\")\n",
    "print(rice.name, rice.get_full_price(), \"руб.\")"
   ]
  },
  {
   "cell_type": "markdown",
   "id": "301f2066-2a9a-4873-80df-34923289606e",
   "metadata": {},
   "source": [
    "## Пример с вычислением потенциальной энергии"
   ]
  },
  {
   "cell_type": "code",
   "execution_count": 3,
   "id": "07877df7-4039-48c9-b3c3-bca9403d4276",
   "metadata": {},
   "outputs": [
    {
     "name": "stdout",
     "output_type": "stream",
     "text": [
      "49000.00000000001\n",
      "50000\n"
     ]
    }
   ],
   "source": [
    "class Physics:\n",
    "\n",
    "    def __init__(self, mass, height=0):\n",
    "        self.mass = mass\n",
    "        self.height = height\n",
    "\n",
    "        # Значение по-умолчанию для ускорения свободного падения\n",
    "        self.g = 9.8\n",
    "\n",
    "    def potential_energy(self):\n",
    "        \"\"\"\n",
    "        Метод возвращает потенциальную энергию тела массой self.mass \n",
    "        поднятого на высоту self.height.\n",
    "        \"\"\"\n",
    "        return self.mass * self.g * self.height\n",
    "\n",
    "p1 = Physics(100, 50)\n",
    "\n",
    "# Стандартная потенциальная энергия\n",
    "print(p1.potential_energy())\n",
    "\n",
    "# Меняем ускорение свободного падения\n",
    "p1.g = 10\n",
    "\n",
    "# Потенциальная энергия с измененным g\n",
    "print(p1.potential_energy())"
   ]
  },
  {
   "cell_type": "code",
   "execution_count": null,
   "id": "4110c1e2-689c-4751-8b77-537765323baf",
   "metadata": {},
   "outputs": [],
   "source": []
  }
 ],
 "metadata": {
  "kernelspec": {
   "display_name": "Python 3 (ipykernel)",
   "language": "python",
   "name": "python3"
  },
  "language_info": {
   "codemirror_mode": {
    "name": "ipython",
    "version": 3
   },
   "file_extension": ".py",
   "mimetype": "text/x-python",
   "name": "python",
   "nbconvert_exporter": "python",
   "pygments_lexer": "ipython3",
   "version": "3.11.7"
  }
 },
 "nbformat": 4,
 "nbformat_minor": 5
}
