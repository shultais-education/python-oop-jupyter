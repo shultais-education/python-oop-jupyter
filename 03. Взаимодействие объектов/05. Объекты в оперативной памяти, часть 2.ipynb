{
 "cells": [
  {
   "cell_type": "markdown",
   "id": "2dede93a",
   "metadata": {},
   "source": [
    "# Объекты в оперативной памяти, часть 2"
   ]
  },
  {
   "cell_type": "code",
   "execution_count": null,
   "id": "fd23986c",
   "metadata": {},
   "outputs": [],
   "source": [
    "class CarNumber:\n",
    "    \n",
    "    def __init__(self, value):\n",
    "        self._value = None\n",
    "        self.set_number(value)\n",
    "        \n",
    "    def set_number(self, value):\n",
    "        # Проверка на длину номера\n",
    "        if len(value) != 6:\n",
    "            raise ValueError(\"Номер автомобиля должен быть равен 6-и символам\")\n",
    "        \n",
    "        # Приводим к нижнему регистру и устанавливаем\n",
    "        self._value = value.lower()\n",
    "        \n",
    "    def get_number(self):\n",
    "        return self._value\n",
    "    \n",
    "\n",
    "class Car:\n",
    "    def __init__(self, brand, model, number):\n",
    "        self.brand = brand\n",
    "        self.model = model\n",
    "        \n",
    "        # Создаем объект класса CarNumber\n",
    "        self.number = CarNumber(number)\n",
    "        \n",
    "\n",
    "class Dealer:\n",
    "    \n",
    "    def __init__(self):\n",
    "        self.cars = []\n",
    "        \n",
    "    def add_car(self, car):\n",
    "        self.cars.append(car)\n",
    "        \n",
    "\n",
    "bmw = Car(\"BMW\", \"X5\", \"X555XX\")\n",
    "\n",
    "# Создаем дилера\n",
    "dealer = Dealer()\n",
    "\n",
    "# Передаем ссылку объект класса Car в атрибут cars\n",
    "dealer.add_car(bmw)\n",
    "\n",
    "\n",
    "# Передаем ссылку на объект класса str в атрибут cars\n",
    "dealer.add_car(\"Mercedes\")\n",
    "\n",
    "\n",
    "# Передаем объект класса Dealer в атрибут cars\n",
    "# Дилер ссылается сам на себя\n",
    "dealer.add_car(dealer)\n",
    "\n",
    "# Выводим cars\n",
    "print(dealer.cars)"
   ]
  },
  {
   "cell_type": "code",
   "execution_count": null,
   "id": "15890d66",
   "metadata": {},
   "outputs": [],
   "source": []
  }
 ],
 "metadata": {
  "kernelspec": {
   "display_name": "Python 3 (ipykernel)",
   "language": "python",
   "name": "python3"
  },
  "language_info": {
   "codemirror_mode": {
    "name": "ipython",
    "version": 3
   },
   "file_extension": ".py",
   "mimetype": "text/x-python",
   "name": "python",
   "nbconvert_exporter": "python",
   "pygments_lexer": "ipython3",
   "version": "3.9.13"
  }
 },
 "nbformat": 4,
 "nbformat_minor": 5
}
