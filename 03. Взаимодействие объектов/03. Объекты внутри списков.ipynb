{
 "cells": [
  {
   "cell_type": "markdown",
   "id": "03e2ed88",
   "metadata": {},
   "source": [
    "# Объекты внутри списков"
   ]
  },
  {
   "cell_type": "code",
   "execution_count": null,
   "id": "8281e66b",
   "metadata": {},
   "outputs": [],
   "source": [
    "class CarNumber:\n",
    "    \n",
    "    def __init__(self, value):\n",
    "        self._value = None\n",
    "        self.set_number(value)\n",
    "        \n",
    "    def set_number(self, value):\n",
    "        # Проверка на длину номера\n",
    "        if len(value) != 6:\n",
    "            raise ValueError(\"Номер автомобиля должен быть равен 6-и символам\")\n",
    "        \n",
    "        # Приводим к нижнему регистру и устанавливаем\n",
    "        self._value = value.lower()\n",
    "        \n",
    "    def get_number(self):\n",
    "        return self._value\n",
    "    \n",
    "\n",
    "class Car:\n",
    "    def __init__(self, brand, model, number):\n",
    "        self.brand = brand\n",
    "        self.model = model\n",
    "        \n",
    "        # Создаем объект класса CarNumber\n",
    "        self.number = CarNumber(number)\n",
    "        \n",
    "\n",
    "class Dealer:\n",
    "    \n",
    "    def __init__(self):\n",
    "        self.cars = []\n",
    "        \n",
    "    def add_car(self, car):\n",
    "        self.cars.append(car)\n",
    "        \n",
    "\n",
    "bmw = Car(\"BMW\", \"X5\", \"X555XX\")\n",
    "\n",
    "# Создаем дилера\n",
    "dealer = Dealer()\n",
    "\n",
    "# Передаем объект в атрибут cars\n",
    "dealer.add_car(bmw)\n",
    "\n",
    "# Через объект dealer получаем:\n",
    "#    список автомобилей cars,\n",
    "#    последний автомобиль в списке [-1],\n",
    "#    номер автомобиля number (объект класс CarNumber),\n",
    "#    номер автомобиля в виде числа через метод .get_number(),\n",
    "#    в конце приводит строку к верхнему регистру\n",
    "print(dealer.cars[-1].number.get_number().upper())"
   ]
  },
  {
   "cell_type": "markdown",
   "id": "4684d432",
   "metadata": {},
   "source": [
    "## Работа со ссылками между объектами"
   ]
  },
  {
   "cell_type": "code",
   "execution_count": null,
   "id": "bcfd91e4",
   "metadata": {},
   "outputs": [],
   "source": [
    "bmw = Car(\"BMW\", \"X5\", \"X555XX\")\n",
    "\n",
    "# Создаем дилера.\n",
    "dealer = Dealer()\n",
    "\n",
    "# Передаем объект в атрибут cars.\n",
    "dealer.add_car(bmw)\n",
    "\n",
    "# Меняем объект bmw.\n",
    "bmw.number.set_number(\"E333EE\")\n",
    "\n",
    "# Это затрагивает объект, который находится в списке cars[-1].\n",
    "print(dealer.cars[-1].number.get_number().upper())"
   ]
  },
  {
   "cell_type": "markdown",
   "id": "37a9f5cf",
   "metadata": {},
   "source": [
    "## Вариант 2"
   ]
  },
  {
   "cell_type": "code",
   "execution_count": null,
   "id": "5e09b5a4",
   "metadata": {},
   "outputs": [],
   "source": [
    "bmw = Car(\"BMW\", \"X5\", \"X555XX\")\n",
    "\n",
    "# Создаем дилера.\n",
    "dealer = Dealer()\n",
    "\n",
    "# Передаем объект в атрибут cars.\n",
    "dealer.add_car(bmw)\n",
    "\n",
    "# Выводим номер объекта в cars[-1].\n",
    "print(dealer.cars[-1].number.get_number().upper())\n",
    "\n",
    "# Устанавливаем номер через дилера.\n",
    "dealer.cars[-1].number.set_number(\"k444KK\")\n",
    "\n",
    "# Выводим номер через объект bmw.\n",
    "print(bmw.number.get_number())"
   ]
  },
  {
   "cell_type": "markdown",
   "id": "7fa0f083",
   "metadata": {},
   "source": [
    "## Вариант 3"
   ]
  },
  {
   "cell_type": "code",
   "execution_count": null,
   "id": "e14f9491",
   "metadata": {},
   "outputs": [],
   "source": [
    "bmw = Car(\"BMW\", \"X5\", \"X555XX\")\n",
    "\n",
    "# Создаем дилера\n",
    "dealer = Dealer()\n",
    "\n",
    "# Передаем объект в атрибут cars.\n",
    "dealer.add_car(bmw)\n",
    "\n",
    "# Создаем объект без переменной.\n",
    "dealer.add_car(Car(\"Mercedes\", \"AMB\", \"B777BB\"))\n",
    "\n",
    "# Выводим номер объекта в cars[-1]\n",
    "print(dealer.cars[-1].number.get_number().upper())\n",
    "\n",
    "# Устанавливаем номер через дилера.\n",
    "dealer.cars[-1].number.set_number(\"k444KK\")\n",
    "\n",
    "# Выводим номер через объект bmw.\n",
    "print(bmw.number.get_number())"
   ]
  },
  {
   "cell_type": "code",
   "execution_count": null,
   "id": "82c31dbb",
   "metadata": {},
   "outputs": [],
   "source": []
  }
 ],
 "metadata": {
  "kernelspec": {
   "display_name": "Python 3 (ipykernel)",
   "language": "python",
   "name": "python3"
  },
  "language_info": {
   "codemirror_mode": {
    "name": "ipython",
    "version": 3
   },
   "file_extension": ".py",
   "mimetype": "text/x-python",
   "name": "python",
   "nbconvert_exporter": "python",
   "pygments_lexer": "ipython3",
   "version": "3.9.13"
  }
 },
 "nbformat": 4,
 "nbformat_minor": 5
}
