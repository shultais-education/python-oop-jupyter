{
 "cells": [
  {
   "cell_type": "markdown",
   "id": "4dd0e213",
   "metadata": {},
   "source": [
    "# Перекрестные ссылки"
   ]
  },
  {
   "cell_type": "code",
   "execution_count": 1,
   "id": "f0fc0060",
   "metadata": {},
   "outputs": [
    {
     "name": "stdout",
     "output_type": "stream",
     "text": [
      "Оставить хороший отзыв\n"
     ]
    }
   ],
   "source": [
    "class Task:\n",
    "    \n",
    "    def __init__(self, name):\n",
    "        self.name = name\n",
    "        self.next = None\n",
    "        \n",
    "    def add_next(self, task):\n",
    "        self.next = task\n",
    "        \n",
    "\n",
    "# Формируем набор задач\n",
    "task1 = Task(\"Освоить циклы\")\n",
    "task2 = Task(\"Освоить классы\")\n",
    "task3 = Task(\"Освоить исключения\")\n",
    "\n",
    "# Связываем задачи между собой task1 -> task3 -> task2\n",
    "task1.add_next(task3)\n",
    "task3.add_next(task2)\n",
    "task2.add_next(Task(\"Закончить курс\"))\n",
    "\n",
    "# Добавляем еще одну задачу в конец\n",
    "review = Task(\"Оставить хороший отзыв\")\n",
    "task2.next.add_next(review)\n",
    "\n",
    "# Добавляем нулевую задачу\n",
    "task0 = Task(\"Записаться на курс\")\n",
    "task0.add_next(task1)\n",
    "\n",
    "# Обход задач в прямом порядке, начиная с review.\n",
    "current_task = review\n",
    "while True:\n",
    "    print(current_task.name)\n",
    "    \n",
    "    # Получаем следующую задачу\n",
    "    current_task = current_task.next\n",
    "    \n",
    "    # Если следующей задачи нет, то завершаем цикл\n",
    "    if current_task is None:\n",
    "        break"
   ]
  },
  {
   "cell_type": "markdown",
   "id": "bbfc8277",
   "metadata": {},
   "source": [
    "## Обратная ссылка"
   ]
  },
  {
   "cell_type": "code",
   "execution_count": 2,
   "id": "bd384f84",
   "metadata": {},
   "outputs": [
    {
     "name": "stdout",
     "output_type": "stream",
     "text": [
      "Оставить хороший отзыв\n",
      "Закончить курс\n",
      "Освоить классы\n",
      "Освоить исключения\n",
      "Освоить циклы\n",
      "Записаться на курс\n"
     ]
    }
   ],
   "source": [
    "class Task:\n",
    "    \n",
    "    def __init__(self, name):\n",
    "        self.name = name\n",
    "        self.next = None\n",
    "        self.prev = None\n",
    "        \n",
    "    def add_next(self, task):\n",
    "        # Прямая ссылка (на следующую задачу)\n",
    "        self.next = task\n",
    "        \n",
    "        # Обратная ссылка (на предыдущую задачу)\n",
    "        task.prev = self\n",
    "        \n",
    "\n",
    "# Формируем набор задач\n",
    "task1 = Task(\"Освоить циклы\")\n",
    "task2 = Task(\"Освоить классы\")\n",
    "task3 = Task(\"Освоить исключения\")\n",
    "\n",
    "# Связываем задачи между собой task1 -> task3 -> task2\n",
    "task1.add_next(task3)\n",
    "task3.add_next(task2)\n",
    "task2.add_next(Task(\"Закончить курс\"))\n",
    "\n",
    "# Добавляем еще одну задачу в конец\n",
    "review = Task(\"Оставить хороший отзыв\")\n",
    "task2.next.add_next(review)\n",
    "\n",
    "# Добавляем нулевую задачу\n",
    "task0 = Task(\"Записаться на курс\")\n",
    "task0.add_next(task1)\n",
    "\n",
    "# Обход задач в обратном порядке, начиная с review.\n",
    "current_task = review\n",
    "while True:\n",
    "    print(current_task.name)\n",
    "    \n",
    "    # Получаем следующую задачу\n",
    "    current_task = current_task.prev\n",
    "    \n",
    "    # Если следующей задачи нет, то завершаем цикл\n",
    "    if current_task is None:\n",
    "        break"
   ]
  },
  {
   "cell_type": "markdown",
   "id": "c370a46e",
   "metadata": {},
   "source": [
    "## Вариативность обхода "
   ]
  },
  {
   "cell_type": "code",
   "execution_count": 5,
   "id": "7819e274",
   "metadata": {},
   "outputs": [
    {
     "name": "stdout",
     "output_type": "stream",
     "text": [
      "Записаться на курс\n",
      "Освоить циклы\n",
      "Освоить исключения\n",
      "Освоить классы\n",
      "Закончить курс\n",
      "Оставить хороший отзыв\n"
     ]
    }
   ],
   "source": [
    "forward = True\n",
    "\n",
    "# Обход задач в прямом порядке, начиная с task0\n",
    "current_task = task0\n",
    "while True:\n",
    "    print(current_task.name)\n",
    "    \n",
    "    # Получаем следующую задачу\n",
    "    current_task = current_task.next if forward else current_task.prev\n",
    "    \n",
    "    # Если следующей задачи нет, то завершаем цикл\n",
    "    if current_task is None:\n",
    "        break"
   ]
  },
  {
   "cell_type": "code",
   "execution_count": null,
   "id": "c94a36c0",
   "metadata": {},
   "outputs": [],
   "source": [
    "forward = False\n",
    "\n",
    "# Обход задач в обратном порядке, начиная с review.\n",
    "current_task = review\n",
    "while True:\n",
    "    print(current_task.name)\n",
    "    \n",
    "    # Получаем следующую задачу\n",
    "    current_task = current_task.next if forward else current_task.prev\n",
    "    \n",
    "    # Если следующей задачи нет, то завершаем цикл\n",
    "    if current_task is None:\n",
    "        break"
   ]
  },
  {
   "cell_type": "code",
   "execution_count": null,
   "id": "72f013e7",
   "metadata": {},
   "outputs": [],
   "source": []
  }
 ],
 "metadata": {
  "kernelspec": {
   "display_name": "Python 3 (ipykernel)",
   "language": "python",
   "name": "python3"
  },
  "language_info": {
   "codemirror_mode": {
    "name": "ipython",
    "version": 3
   },
   "file_extension": ".py",
   "mimetype": "text/x-python",
   "name": "python",
   "nbconvert_exporter": "python",
   "pygments_lexer": "ipython3",
   "version": "3.9.13"
  }
 },
 "nbformat": 4,
 "nbformat_minor": 5
}
