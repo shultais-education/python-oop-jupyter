{
 "cells": [
  {
   "cell_type": "markdown",
   "id": "ef2fae98",
   "metadata": {},
   "source": [
    "# В Python всё объекты"
   ]
  },
  {
   "cell_type": "code",
   "execution_count": null,
   "id": "a62b014a",
   "metadata": {},
   "outputs": [],
   "source": [
    "# Создаем строковый объект\n",
    "name = \"Никита\"\n",
    "\n",
    "# Выводим тип (класс) переменной name\n",
    "print(type(name))\n",
    "\n",
    "# Используем строковый метод\n",
    "print(name.upper())"
   ]
  },
  {
   "cell_type": "markdown",
   "id": "54b0b9a9",
   "metadata": {},
   "source": [
    "## Преобразования объектов"
   ]
  },
  {
   "cell_type": "code",
   "execution_count": null,
   "id": "ebb62a0d",
   "metadata": {},
   "outputs": [],
   "source": [
    "# Создаем число (целочисленный объект)\n",
    "number = 1617\n",
    "\n",
    "# Приводим число к строке (теперь это строковый объект)\n",
    "number = str(number)\n",
    "\n",
    "# Используем строковый метод\n",
    "print(number.zfill(10))"
   ]
  },
  {
   "cell_type": "markdown",
   "id": "accb6c48",
   "metadata": {},
   "source": [
    "## Методы чисел"
   ]
  },
  {
   "cell_type": "code",
   "execution_count": null,
   "id": "2e384326",
   "metadata": {},
   "outputs": [],
   "source": [
    "# Создаем число (целочисленный объект)\n",
    "number = 1617\n",
    "\n",
    "# Вызываем метод числа\n",
    "print(number.bit_count())"
   ]
  },
  {
   "cell_type": "markdown",
   "id": "be152c8b",
   "metadata": {},
   "source": [
    "## Пользовательские классы"
   ]
  },
  {
   "cell_type": "code",
   "execution_count": null,
   "id": "3f4dd237",
   "metadata": {},
   "outputs": [],
   "source": [
    "class Customer:\n",
    "    \n",
    "    def __init__(self, first_name):\n",
    "        self.fn = first_name\n",
    "        \n",
    "    def get_first_name(self):\n",
    "        return self.fn\n",
    "    \n",
    "    \n",
    "# Создаем объект класс Customer\n",
    "ivan_c = Customer(\"Иван\")\n",
    "\n",
    "# Выводим данные объекта\n",
    "print(ivan_c.fn)\n",
    "print(ivan_c.get_first_name())\n",
    "\n",
    "# Отделяем выводы\n",
    "print()\n",
    "\n",
    "# Применяем строковые методы к атрибутам объекта\n",
    "print(ivan_c.fn.upper())\n",
    "print(ivan_c.get_first_name().lower())"
   ]
  },
  {
   "cell_type": "code",
   "execution_count": null,
   "id": "8321ed0a",
   "metadata": {},
   "outputs": [],
   "source": []
  }
 ],
 "metadata": {
  "kernelspec": {
   "display_name": "Python 3 (ipykernel)",
   "language": "python",
   "name": "python3"
  },
  "language_info": {
   "codemirror_mode": {
    "name": "ipython",
    "version": 3
   },
   "file_extension": ".py",
   "mimetype": "text/x-python",
   "name": "python",
   "nbconvert_exporter": "python",
   "pygments_lexer": "ipython3",
   "version": "3.9.13"
  }
 },
 "nbformat": 4,
 "nbformat_minor": 5
}
