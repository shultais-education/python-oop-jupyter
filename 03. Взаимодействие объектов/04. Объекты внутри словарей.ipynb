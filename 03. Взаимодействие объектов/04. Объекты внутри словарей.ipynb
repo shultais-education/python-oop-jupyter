{
 "cells": [
  {
   "cell_type": "markdown",
   "id": "6570df3e",
   "metadata": {},
   "source": [
    "# Объекты внутри словарей"
   ]
  },
  {
   "cell_type": "code",
   "execution_count": null,
   "id": "e88f9180",
   "metadata": {},
   "outputs": [],
   "source": [
    "class CarNumber:\n",
    "    \n",
    "    def __init__(self, value):\n",
    "        self._value = None\n",
    "        self.set_number(value)\n",
    "        \n",
    "    def set_number(self, value):\n",
    "        # Проверка на длину номера\n",
    "        if len(value) != 6:\n",
    "            raise ValueError(\"Номер автомобиля должен быть равен 6-и символам\")\n",
    "        \n",
    "        # Приводим к нижнему регистру и устанавливаем\n",
    "        self._value = value.lower()\n",
    "        \n",
    "    def get_number(self):\n",
    "        return self._value\n",
    "    \n",
    "\n",
    "class Car:\n",
    "    def __init__(self, brand, model, number):\n",
    "        self._brand = brand\n",
    "        self._model = model\n",
    "        \n",
    "        # Создаем объект класса CarNumber\n",
    "        self.number = CarNumber(number)\n",
    "        \n",
    "\n",
    "class Dealer:\n",
    "    \n",
    "    def __init__(self):\n",
    "        self.cars = {}\n",
    "        \n",
    "    def add_car(self, car):\n",
    "        self.cars[car.number.get_number()] = car\n",
    "        \n",
    "\n",
    "bmw = Car(\"BMW\", \"X5\", \"X555XX\")\n",
    "\n",
    "# Создаем дилера\n",
    "dealer = Dealer()\n",
    "\n",
    "# Передаем объект в атрибут cars\n",
    "dealer.add_car(bmw)\n",
    "\n",
    "# Получаем словарь автомобилей\n",
    "print(dealer.cars)\n",
    "\n",
    "# Получаем автомобиль по номеру и выводим его марку\n",
    "print(dealer.cars[\"x555xx\"]._brand)"
   ]
  },
  {
   "cell_type": "code",
   "execution_count": null,
   "id": "1fa7b456",
   "metadata": {},
   "outputs": [],
   "source": []
  }
 ],
 "metadata": {
  "kernelspec": {
   "display_name": "Python 3 (ipykernel)",
   "language": "python",
   "name": "python3"
  },
  "language_info": {
   "codemirror_mode": {
    "name": "ipython",
    "version": 3
   },
   "file_extension": ".py",
   "mimetype": "text/x-python",
   "name": "python",
   "nbconvert_exporter": "python",
   "pygments_lexer": "ipython3",
   "version": "3.9.13"
  }
 },
 "nbformat": 4,
 "nbformat_minor": 5
}
