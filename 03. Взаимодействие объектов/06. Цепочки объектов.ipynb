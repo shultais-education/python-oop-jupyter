{
 "cells": [
  {
   "cell_type": "markdown",
   "id": "a2e5b23f",
   "metadata": {},
   "source": [
    "# Цепочки объектов"
   ]
  },
  {
   "cell_type": "code",
   "execution_count": null,
   "id": "7af0671a",
   "metadata": {},
   "outputs": [],
   "source": [
    "class Task:\n",
    "    \n",
    "    def __init__(self, name):\n",
    "        self.name = name\n",
    "        self.next = None\n",
    "        \n",
    "    def add_next(self, task):\n",
    "        self.next = task\n",
    "        \n",
    "\n",
    "# Формируем набор задач\n",
    "task1 = Task(\"Освоить циклы\")\n",
    "task2 = Task(\"Освоить классы\")\n",
    "task3 = Task(\"Освоить исключения\")\n",
    "\n",
    "# Связываем задачи между собой task1 -> task2 -> task3\n",
    "task1.add_next(task2)\n",
    "task2.add_next(task3)\n",
    "\n",
    "# Обход задач в прямом порядке\n",
    "current_task = task1\n",
    "while True:\n",
    "    print(current_task.name)\n",
    "    \n",
    "    # Получаем следующую задачу\n",
    "    current_task = current_task.next\n",
    "    \n",
    "    # Если следующей задачи нет, то завершаем цикл\n",
    "    if current_task is None:\n",
    "        break"
   ]
  },
  {
   "cell_type": "markdown",
   "id": "ded1188e",
   "metadata": {},
   "source": [
    "## Изменяем порядок ссылок"
   ]
  },
  {
   "cell_type": "code",
   "execution_count": null,
   "id": "8e528933",
   "metadata": {},
   "outputs": [],
   "source": [
    "# Формируем набор задач\n",
    "task1 = Task(\"Освоить циклы\")\n",
    "task2 = Task(\"Освоить классы\")\n",
    "task3 = Task(\"Освоить исключения\")\n",
    "\n",
    "# Связываем задачи между собой task1 -> task3 -> task2\n",
    "task1.add_next(task3)\n",
    "task3.add_next(task2)\n",
    "\n",
    "# Обход задач в прямом порядке\n",
    "current_task = task1\n",
    "while True:\n",
    "    print(current_task.name)\n",
    "    \n",
    "    # Получаем следующую задачу\n",
    "    current_task = current_task.next\n",
    "    \n",
    "    # Если следующей задачи нет, то завершаем цикл\n",
    "    if current_task is None:\n",
    "        break"
   ]
  },
  {
   "cell_type": "markdown",
   "id": "9a077318",
   "metadata": {},
   "source": [
    "## Формируем задачу без имени\n"
   ]
  },
  {
   "cell_type": "code",
   "execution_count": null,
   "id": "23905453",
   "metadata": {},
   "outputs": [],
   "source": [
    "# Формируем набор задач\n",
    "task1 = Task(\"Освоить циклы\")\n",
    "task2 = Task(\"Освоить классы\")\n",
    "task3 = Task(\"Освоить исключения\")\n",
    "\n",
    "# Связываем задачи между собой task1 -> task3 -> task2\n",
    "task1.add_next(task3)\n",
    "task3.add_next(task2)\n",
    "task2.add_next(Task(\"Закончить курс\"))\n",
    "\n",
    "# Обход задач в прямом порядке\n",
    "current_task = task1\n",
    "while True:\n",
    "    print(current_task.name)\n",
    "    \n",
    "    # Получаем следующую задачу\n",
    "    current_task = current_task.next\n",
    "    \n",
    "    # Если следующей задачи нет, то завершаем цикл\n",
    "    if current_task is None:\n",
    "        break"
   ]
  },
  {
   "cell_type": "markdown",
   "id": "849fd4a1",
   "metadata": {},
   "source": [
    "## Обращение к задаче без имени"
   ]
  },
  {
   "cell_type": "code",
   "execution_count": null,
   "id": "ac96b42a",
   "metadata": {},
   "outputs": [],
   "source": [
    "# Формируем набор задач\n",
    "task1 = Task(\"Освоить циклы\")\n",
    "task2 = Task(\"Освоить классы\")\n",
    "task3 = Task(\"Освоить исключения\")\n",
    "\n",
    "# Связываем задачи между собой task1 -> task3 -> task2\n",
    "task1.add_next(task3)\n",
    "task3.add_next(task2)\n",
    "task2.add_next(Task(\"Закончить курс\"))\n",
    "\n",
    "# Добавляем еще одну задачу в конец\n",
    "review = Task(\"Оставить хороший отзыв\")\n",
    "task2.next.add_next(review)\n",
    "\n",
    "# Обход задач в прямом порядке\n",
    "current_task = task1\n",
    "while True:\n",
    "    print(current_task.name)\n",
    "    \n",
    "    # Получаем следующую задачу\n",
    "    current_task = current_task.next\n",
    "    \n",
    "    # Если следующей задачи нет, то завершаем цикл\n",
    "    if current_task is None:\n",
    "        break"
   ]
  },
  {
   "cell_type": "markdown",
   "id": "1136660e",
   "metadata": {},
   "source": [
    "## Обход с произвольной задачи"
   ]
  },
  {
   "cell_type": "code",
   "execution_count": null,
   "id": "622cf4b6",
   "metadata": {},
   "outputs": [],
   "source": [
    "# Формируем набор задач\n",
    "task1 = Task(\"Освоить циклы\")\n",
    "task2 = Task(\"Освоить классы\")\n",
    "task3 = Task(\"Освоить исключения\")\n",
    "\n",
    "# Связываем задачи между собой task1 -> task3 -> task2\n",
    "task1.add_next(task3)\n",
    "task3.add_next(task2)\n",
    "task2.add_next(Task(\"Закончить курс\"))\n",
    "\n",
    "# Добавляем еще одну задачу в конец\n",
    "review = Task(\"Оставить хороший отзыв\")\n",
    "task2.next.add_next(review)\n",
    "\n",
    "# Обход задач в прямом порядке, начиная с task2\n",
    "current_task = task2\n",
    "while True:\n",
    "    print(current_task.name)\n",
    "    \n",
    "    # Получаем следующую задачу\n",
    "    current_task = current_task.next\n",
    "    \n",
    "    # Если следующей задачи нет, то завершаем цикл\n",
    "    if current_task is None:\n",
    "        break"
   ]
  },
  {
   "cell_type": "markdown",
   "id": "d038cc86",
   "metadata": {},
   "source": [
    "## Нулевая задача"
   ]
  },
  {
   "cell_type": "code",
   "execution_count": null,
   "id": "fec9c5b4",
   "metadata": {},
   "outputs": [],
   "source": [
    "# Формируем набор задач\n",
    "task1 = Task(\"Освоить циклы\")\n",
    "task2 = Task(\"Освоить классы\")\n",
    "task3 = Task(\"Освоить исключения\")\n",
    "\n",
    "# Связываем задачи между собой task1 -> task3 -> task2\n",
    "task1.add_next(task3)\n",
    "task3.add_next(task2)\n",
    "task2.add_next(Task(\"Закончить курс\"))\n",
    "\n",
    "# Добавляем еще одну задачу в конец\n",
    "review = Task(\"Оставить хороший отзыв\")\n",
    "task2.next.add_next(review)\n",
    "\n",
    "# Добавляем нулевую задачу\n",
    "task0 = Task(\"Записаться на курс\")\n",
    "task0.add_next(task1)\n",
    "\n",
    "# Обход задач в прямом порядке, начиная с task0.\n",
    "# Задачи выводятся в том порядке, в котором объекты связаны между собой.\n",
    "current_task = task0\n",
    "while True:\n",
    "    print(current_task.name)\n",
    "    \n",
    "    # Получаем следующую задачу\n",
    "    current_task = current_task.next\n",
    "    \n",
    "    # Если следующей задачи нет, то завершаем цикл\n",
    "    if current_task is None:\n",
    "        break"
   ]
  },
  {
   "cell_type": "markdown",
   "id": "936eb671",
   "metadata": {},
   "source": [
    "## Длинная цепочка ссылок"
   ]
  },
  {
   "cell_type": "code",
   "execution_count": null,
   "id": "a270e7ca",
   "metadata": {},
   "outputs": [],
   "source": [
    "# Формируем набор задач\n",
    "task1 = Task(\"Освоить циклы\")\n",
    "task2 = Task(\"Освоить классы\")\n",
    "task3 = Task(\"Освоить исключения\")\n",
    "\n",
    "# Связываем задачи между собой task1 -> task3 -> task2\n",
    "task1.add_next(task3)\n",
    "task3.add_next(task2)\n",
    "task2.add_next(Task(\"Закончить курс\"))\n",
    "\n",
    "# Добавляем еще одну задачу в конец\n",
    "review = Task(\"Оставить хороший отзыв\")\n",
    "task2.next.add_next(review)\n",
    "\n",
    "# Добавляем нулевую задачу\n",
    "task0 = Task(\"Записаться на курс\")\n",
    "task0.add_next(task1)\n",
    "\n",
    "# Строим цепочку ссылок\n",
    "print(task0.next.next.next.next.next.name)"
   ]
  },
  {
   "cell_type": "code",
   "execution_count": null,
   "id": "c7b726e5",
   "metadata": {},
   "outputs": [],
   "source": []
  }
 ],
 "metadata": {
  "kernelspec": {
   "display_name": "Python 3 (ipykernel)",
   "language": "python",
   "name": "python3"
  },
  "language_info": {
   "codemirror_mode": {
    "name": "ipython",
    "version": 3
   },
   "file_extension": ".py",
   "mimetype": "text/x-python",
   "name": "python",
   "nbconvert_exporter": "python",
   "pygments_lexer": "ipython3",
   "version": "3.9.13"
  }
 },
 "nbformat": 4,
 "nbformat_minor": 5
}
