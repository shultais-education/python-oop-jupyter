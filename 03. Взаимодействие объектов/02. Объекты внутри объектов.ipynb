{
 "cells": [
  {
   "cell_type": "markdown",
   "id": "6107910f",
   "metadata": {},
   "source": [
    "# Объекты внутри объектов"
   ]
  },
  {
   "cell_type": "code",
   "execution_count": null,
   "id": "16bd30ab",
   "metadata": {},
   "outputs": [],
   "source": [
    "class CarNumber:\n",
    "    \n",
    "    def __init__(self, value):\n",
    "        self._value = None\n",
    "        self.set_number(value)\n",
    "        \n",
    "    def set_number(self, value):\n",
    "        # Проверка на длину номера\n",
    "        if len(value) != 6:\n",
    "            raise ValueError(\"Номер автомобиля должен быть равен 6-и символам\")\n",
    "        \n",
    "        # Приводим к нижнему регистру и устанавливаем\n",
    "        self._value = value.lower()\n",
    "        \n",
    "    def get_number(self):\n",
    "        return self._value\n",
    "    \n",
    "\n",
    "class Car:\n",
    "    def __init__(self, brand, model, number):\n",
    "        self.brand = brand\n",
    "        self.model = model\n",
    "        \n",
    "        # Создаем объект класса CarNumber\n",
    "        self.number = CarNumber(number)\n",
    "        \n",
    "\n",
    "# Создаем объект класса Car.\n",
    "# bmw = Car(\"BMW\", \"X5\", \"X555XXX\")  # Вариант с ошибкой в номере\n",
    "bmw = Car(\"BMW\", \"X5\", \"X555XX\")\n",
    "\n",
    "# Выводим номер автомобиля.\n",
    "print(bmw.number.get_number())\n",
    "\n",
    "# Меняем номер чере метод.\n",
    "bmw.number.set_number(\"A111AA\")\n",
    "\n",
    "# Выводим номер автомобиля.\n",
    "print(bmw.number.get_number())\n",
    "\n",
    "# Цепочка методов и срезов (получаем числовой номер)\n",
    "print(bmw.number.get_number().upper()[1:4])"
   ]
  },
  {
   "cell_type": "code",
   "execution_count": null,
   "id": "44a0cca0",
   "metadata": {},
   "outputs": [],
   "source": []
  }
 ],
 "metadata": {
  "kernelspec": {
   "display_name": "Python 3 (ipykernel)",
   "language": "python",
   "name": "python3"
  },
  "language_info": {
   "codemirror_mode": {
    "name": "ipython",
    "version": 3
   },
   "file_extension": ".py",
   "mimetype": "text/x-python",
   "name": "python",
   "nbconvert_exporter": "python",
   "pygments_lexer": "ipython3",
   "version": "3.9.13"
  }
 },
 "nbformat": 4,
 "nbformat_minor": 5
}
