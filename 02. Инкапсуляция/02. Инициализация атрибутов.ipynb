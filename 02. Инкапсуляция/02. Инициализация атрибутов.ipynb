{
 "cells": [
  {
   "cell_type": "markdown",
   "id": "06aaf7ab",
   "metadata": {},
   "source": [
    "#  Инициализация атрибутов\n",
    "\n",
    "Хорошая практика использовать сеттеры прямо в конструкторе."
   ]
  },
  {
   "cell_type": "markdown",
   "id": "43275857",
   "metadata": {},
   "source": [
    "## Начальный код"
   ]
  },
  {
   "cell_type": "code",
   "execution_count": null,
   "id": "47e5713b",
   "metadata": {},
   "outputs": [],
   "source": [
    "class Car:\n",
    "    \n",
    "    def __init__(self, brand, model, power):\n",
    "        self.brand = brand\n",
    "        self.model = model\n",
    "        self.power = power\n",
    "        \n",
    "    def get_year_tax(self, rate):\n",
    "        return self.power * rate\n",
    "    \n",
    "    def set_power(self, new_power):\n",
    "        new_power = float(new_power)\n",
    "\n",
    "        # Проверяем значение мощности и если она меньше 0,\n",
    "        # то \"выбрасываем\" исключение.\n",
    "        if new_power <= 0:\n",
    "            raise ValueError(\"Мощность должна быть больше 0\")\n",
    "            \n",
    "        self.power = new_power\n",
    "            \n",
    "    \n",
    "# Создание объекта\n",
    "bmw = Car(\"BMW\", \"X5\", -340)\n",
    "\n",
    "# Вывод годового дохода\n",
    "print(bmw.get_year_tax(150))"
   ]
  },
  {
   "cell_type": "markdown",
   "id": "7c5c3c9a",
   "metadata": {},
   "source": [
    "## Инициализация через сеттер"
   ]
  },
  {
   "cell_type": "code",
   "execution_count": null,
   "id": "863fcc91",
   "metadata": {},
   "outputs": [],
   "source": [
    "class Car:\n",
    "    \n",
    "    def __init__(self, brand, model, power):\n",
    "        self.brand = brand\n",
    "        self.model = model\n",
    "        \n",
    "        # Сразу вызываем метод для установки мощности.\n",
    "        # Атрибут self.power будет создан внутри сеттера.\n",
    "        self.set_power(power)\n",
    "        \n",
    "    def get_year_tax(self, rate):\n",
    "        return self.power * rate\n",
    "    \n",
    "    def set_power(self, new_power):\n",
    "        new_power = float(new_power)\n",
    "\n",
    "        # Проверяем значение мощности и если она меньше 0,\n",
    "        # то \"выбрасываем\" исключение.\n",
    "        if new_power <= 0:\n",
    "            raise ValueError(\"Мощность должна быть больше 0\")\n",
    "            \n",
    "        self.power = new_power\n",
    "            \n",
    "    \n",
    "# Создание объекта\n",
    "bmw = Car(\"BMW\", \"X5\", -340)\n",
    "\n",
    "# Вывод годового дохода\n",
    "print(bmw.get_year_tax(150))"
   ]
  },
  {
   "cell_type": "markdown",
   "id": "a9118442",
   "metadata": {},
   "source": [
    "## Инициализация и установка\n",
    "\n",
    "Часто на практике в конструкторе делают два действия:\n",
    "- Создают (инициализируют) атрибут с начальным значением: 0, None или пустая строка.\n",
    "- Вызывают сеттер для установки значения в атрибут."
   ]
  },
  {
   "cell_type": "code",
   "execution_count": null,
   "id": "b678b50d",
   "metadata": {},
   "outputs": [],
   "source": [
    "class Car:\n",
    "    \n",
    "    def __init__(self, brand, model, power):\n",
    "        self.brand = brand\n",
    "        self.model = model\n",
    "        \n",
    "        # Создаем атрибут (инициализируем) для мощности.\n",
    "        self.power = 0\n",
    "        \n",
    "        # Вызываем метод для установки мощности.\n",
    "        self.set_power(power)\n",
    "        \n",
    "    def get_year_tax(self, rate):\n",
    "        return self.power * rate\n",
    "    \n",
    "    def set_power(self, new_power):\n",
    "        new_power = float(new_power)\n",
    "\n",
    "        # Проверяем значение мощности и если она меньше 0,\n",
    "        # то \"выбрасываем\" исключение.\n",
    "        if new_power <= 0:\n",
    "            raise ValueError(\"Мощность должна быть больше 0\")\n",
    "            \n",
    "        self.power = new_power\n",
    "            \n",
    "    \n",
    "# Создание объекта\n",
    "bmw = Car(\"BMW\", \"X5\", 340)\n",
    "\n",
    "# Вывод годового дохода\n",
    "print(bmw.get_year_tax(150))"
   ]
  },
  {
   "cell_type": "code",
   "execution_count": null,
   "id": "ae06a560",
   "metadata": {},
   "outputs": [],
   "source": []
  }
 ],
 "metadata": {
  "kernelspec": {
   "display_name": "Python 3 (ipykernel)",
   "language": "python",
   "name": "python3"
  },
  "language_info": {
   "codemirror_mode": {
    "name": "ipython",
    "version": 3
   },
   "file_extension": ".py",
   "mimetype": "text/x-python",
   "name": "python",
   "nbconvert_exporter": "python",
   "pygments_lexer": "ipython3",
   "version": "3.9.13"
  }
 },
 "nbformat": 4,
 "nbformat_minor": 5
}
