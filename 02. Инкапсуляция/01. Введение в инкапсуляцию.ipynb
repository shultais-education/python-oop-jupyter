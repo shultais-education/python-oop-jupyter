{
 "cells": [
  {
   "cell_type": "markdown",
   "id": "324100bf",
   "metadata": {},
   "source": [
    "# Введение в инкапсуляцию"
   ]
  },
  {
   "cell_type": "markdown",
   "id": "543003fa",
   "metadata": {},
   "source": [
    "**Инкапусуляция** – это скрытие атрибутов объекта от пользователя класса.\n",
    "\n",
    "В хорошо спроектированном классе **нет прямого доступа** к его атрибутам.<br>\n",
    "Вместо этого используются **методы** для *установки и извлечения* значений из атрибутов."
   ]
  },
  {
   "cell_type": "markdown",
   "id": "98117e26",
   "metadata": {},
   "source": [
    "## Начальный класс"
   ]
  },
  {
   "cell_type": "code",
   "execution_count": null,
   "id": "d5b1f733",
   "metadata": {},
   "outputs": [],
   "source": [
    "class Car:\n",
    "    \n",
    "    def __init__(self, brand, model, power):\n",
    "        self.brand = brand\n",
    "        self.model = model\n",
    "        self.power = power\n",
    "        \n",
    "    def get_year_tax(self, rate):\n",
    "        return self.power * rate\n",
    "    \n",
    "# Создание объекта\n",
    "bmw = Car(\"BMW\", \"X5\", 340)\n",
    "\n",
    "# Вывод годового дохода\n",
    "print(bmw.get_year_tax(150))"
   ]
  },
  {
   "cell_type": "markdown",
   "id": "28cf1295",
   "metadata": {},
   "source": [
    "## Доступ к атирбутам напрямую\n",
    "\n",
    "Изменение атрибутов напрямую может вызвать ошибку при передаче неверных данных."
   ]
  },
  {
   "cell_type": "code",
   "execution_count": null,
   "id": "a2b99eb5",
   "metadata": {},
   "outputs": [],
   "source": [
    "# Создание объекта\n",
    "bmw = Car(\"BMW\", \"X5\", 340)\n",
    "\n",
    "# Изменение мощности напрямую\n",
    "bmw.power = \"340\"\n",
    "\n",
    "# Вывод годового дохода\n",
    "print(bmw.get_year_tax(150))"
   ]
  },
  {
   "cell_type": "markdown",
   "id": "dd44cdf9",
   "metadata": {},
   "source": [
    "## Метод для установки мощности\n",
    "\n",
    "Использование методов для установки значений в атрибуы делает код **надежней**.\n",
    "\n",
    "Методы для установки значений называются:\n",
    "  - **сеттерами** (setter), \n",
    "  - мутаторами,\n",
    "  - модифицирующими методами."
   ]
  },
  {
   "cell_type": "code",
   "execution_count": null,
   "id": "ef3ecb9c",
   "metadata": {},
   "outputs": [],
   "source": [
    "class Car:\n",
    "    \n",
    "    def __init__(self, brand, model, power):\n",
    "        self.brand = brand\n",
    "        self.model = model\n",
    "        self.power = power\n",
    "        \n",
    "    def get_year_tax(self, rate):\n",
    "        return self.power * rate\n",
    "    \n",
    "    def set_power(self, new_power):\n",
    "        self.power = int(new_power)\n",
    "    \n",
    "# Создание объекта\n",
    "bmw = Car(\"BMW\", \"X5\", 340)\n",
    "\n",
    "# Изменение мощности через метод\n",
    "bmw.set_power(\"340\")\n",
    "\n",
    "# Вывод годового дохода\n",
    "print(bmw.get_year_tax(150))"
   ]
  },
  {
   "cell_type": "markdown",
   "id": "011bccc2",
   "metadata": {},
   "source": [
    "### Более надежный вариант метода `.set_power()`\n",
    "\n",
    "Даже небольшие изменения в методах позволяют делать ваши классы более устойчивыми к потенциальным ошибкам."
   ]
  },
  {
   "cell_type": "code",
   "execution_count": null,
   "id": "c43df578",
   "metadata": {},
   "outputs": [],
   "source": [
    "class Car:\n",
    "    \n",
    "    def __init__(self, brand, model, power):\n",
    "        self.brand = brand\n",
    "        self.model = model\n",
    "        self.power = power\n",
    "        \n",
    "    def get_year_tax(self, rate):\n",
    "        return self.power * rate\n",
    "    \n",
    "    def set_power(self, new_power):\n",
    "        self.power = float(new_power)\n",
    "    \n",
    "# Создание объекта\n",
    "bmw = Car(\"BMW\", \"X5\", 340)\n",
    "\n",
    "# Изменение мощности через метод\n",
    "bmw.set_power(\"340.5\")\n",
    "\n",
    "# Вывод годового дохода\n",
    "print(bmw.get_year_tax(150))"
   ]
  },
  {
   "cell_type": "markdown",
   "id": "60394cae",
   "metadata": {},
   "source": [
    "## Интерфейс класса\n",
    "\n",
    "**Интерфейс класса** (API) - это набор публичных методов и атрибутов, через которые конечный программист (пользователь класса) может взаимодействовать с объектом.\n",
    "\n",
    "За интерфейс класс отвечает разработчик этого класса."
   ]
  },
  {
   "cell_type": "markdown",
   "id": "8eb30c19",
   "metadata": {},
   "source": [
    "### Дополнительные проверки в сеттерах\n",
    "\n",
    "Использование сеттеров для установки значений позволяет добавлять дополнительные проверки значений."
   ]
  },
  {
   "cell_type": "code",
   "execution_count": null,
   "id": "3575683b",
   "metadata": {},
   "outputs": [],
   "source": [
    "class Car:\n",
    "    \n",
    "    def __init__(self, brand, model, power):\n",
    "        self.brand = brand\n",
    "        self.model = model\n",
    "        self.power = power\n",
    "        \n",
    "    def get_year_tax(self, rate):\n",
    "        return self.power * rate\n",
    "    \n",
    "    def set_power(self, new_power):\n",
    "        new_power = float(new_power)\n",
    "\n",
    "        # Проверяем значение мощности и если она меньше 0,\n",
    "        # то \"выбрасываем\" исключение.\n",
    "        if new_power <= 0:\n",
    "            raise ValueError(\"Мощность должна быть больше 0\")\n",
    "            \n",
    "        self.power = new_power\n",
    "            \n",
    "    \n",
    "# Создание объекта\n",
    "bmw = Car(\"BMW\", \"X5\", 340)\n",
    "\n",
    "# Изменение мощности через метод\n",
    "bmw.set_power(\"340.5\")\n",
    "\n",
    "# Вывод годового дохода\n",
    "print(bmw.get_year_tax(150))\n",
    "\n",
    "# Установка неверного значения мощности\n",
    "bmw.set_power(\"-340.5\")"
   ]
  },
  {
   "cell_type": "code",
   "execution_count": null,
   "id": "71654be1",
   "metadata": {},
   "outputs": [],
   "source": []
  }
 ],
 "metadata": {
  "kernelspec": {
   "display_name": "Python 3 (ipykernel)",
   "language": "python",
   "name": "python3"
  },
  "language_info": {
   "codemirror_mode": {
    "name": "ipython",
    "version": 3
   },
   "file_extension": ".py",
   "mimetype": "text/x-python",
   "name": "python",
   "nbconvert_exporter": "python",
   "pygments_lexer": "ipython3",
   "version": "3.9.13"
  }
 },
 "nbformat": 4,
 "nbformat_minor": 5
}
