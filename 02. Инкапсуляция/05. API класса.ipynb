{
 "cells": [
  {
   "cell_type": "markdown",
   "id": "628cf9ec",
   "metadata": {},
   "source": [
    "# API класса\n",
    "\n",
    "**API** (Application Programming Interface, публичный интерфейс) класса - это набор публичных методов и атрибутов\\*, которые предназначены для взаимодействия с объектом из основной программы.\n",
    "\n",
    "API класса проектируется для пользователей класса.\n",
    "\n",
    "Публичные методы должны удовлетворять нескольким условиям:\n",
    "1. Интуитивно понятные.\n",
    "2. Легко запоминающиеся.\n",
    "3. Стабильные.\n",
    "\n",
    "**Имена методов** (и публичных атрибутов) не должны меняться от версии к версии.<br>**Логика** (поведение) публичных методов может меняться.\n",
    "\n",
    "\\* Хорошо спроектированный класс не должен содержат публичных атрибутов. Все его атрибуты должны быть непубличными с возможностью изменения и получения значений через публичные методы (геттеры и сеттеры)."
   ]
  },
  {
   "cell_type": "markdown",
   "id": "4413fe0a",
   "metadata": {},
   "source": [
    "## Изменение непубличных атрибутов не влияют на API класса"
   ]
  },
  {
   "cell_type": "code",
   "execution_count": null,
   "id": "06aeb7dd",
   "metadata": {},
   "outputs": [],
   "source": [
    "class Car:\n",
    "    \n",
    "    def __init__(self, brand, model, power):\n",
    "        self.brand = brand\n",
    "        self.model = model\n",
    "        \n",
    "        # Создаем непубличный атрибут для мощности.\n",
    "        self._hp = 0\n",
    "        \n",
    "        # Вызываем метод для установки мощности.\n",
    "        self.set_power(power)\n",
    "        \n",
    "    def get_year_tax(self, rate):\n",
    "        # Вычисляем налог с использованием геттера\n",
    "        return self._hp * rate\n",
    "    \n",
    "    def get_power(self):\n",
    "        # Возвращаем мощность в виде целого числа.\n",
    "        return self._hp\n",
    "    \n",
    "    def set_power(self, new_power):\n",
    "        new_power = float(new_power)\n",
    "\n",
    "        # Проверяем значение мощности и если она меньше 0,\n",
    "        # то \"выбрасываем\" исключение.\n",
    "        if new_power <= 0:\n",
    "            raise ValueError(\"Мощность должна быть больше 0\")\n",
    "            \n",
    "        self._hp = new_power\n",
    "            \n",
    "    \n",
    "# Создание объекта\n",
    "bmw = Car(\"BMW\", \"X5\", 340)\n",
    "\n",
    "bmw.set_power(\"350\")\n",
    "\n",
    "# Получаем налог\n",
    "bmw_tax = bmw.get_year_tax(150)\n",
    "\n",
    "# Выводим налог\n",
    "print(bmw_tax)"
   ]
  },
  {
   "cell_type": "code",
   "execution_count": null,
   "id": "15dd46bf",
   "metadata": {},
   "outputs": [],
   "source": []
  }
 ],
 "metadata": {
  "kernelspec": {
   "display_name": "Python 3 (ipykernel)",
   "language": "python",
   "name": "python3"
  },
  "language_info": {
   "codemirror_mode": {
    "name": "ipython",
    "version": 3
   },
   "file_extension": ".py",
   "mimetype": "text/x-python",
   "name": "python",
   "nbconvert_exporter": "python",
   "pygments_lexer": "ipython3",
   "version": "3.9.13"
  }
 },
 "nbformat": 4,
 "nbformat_minor": 5
}
